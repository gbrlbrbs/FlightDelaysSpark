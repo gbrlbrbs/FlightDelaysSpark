{
 "cells": [
  {
   "cell_type": "code",
   "execution_count": 1,
   "id": "1eab0f1d-e52c-46a8-81f3-65f163949601",
   "metadata": {},
   "outputs": [
    {
     "name": "stdout",
     "output_type": "stream",
     "text": [
      "Skipping, found downloaded files in \"./data/airline-delay-and-cancellation-data-2009-2018\" (use force=True to force download)\n"
     ]
    }
   ],
   "source": [
    "from get_data import get_data\n",
    "\n",
    "get_data()"
   ]
  }
 ],
 "metadata": {
  "kernelspec": {
   "display_name": "Python 3 (ipykernel)",
   "language": "python",
   "name": "python3"
  },
  "language_info": {
   "codemirror_mode": {
    "name": "ipython",
    "version": 3
   },
   "file_extension": ".py",
   "mimetype": "text/x-python",
   "name": "python",
   "nbconvert_exporter": "python",
   "pygments_lexer": "ipython3",
   "version": "3.8.10"
  }
 },
 "nbformat": 4,
 "nbformat_minor": 5
}

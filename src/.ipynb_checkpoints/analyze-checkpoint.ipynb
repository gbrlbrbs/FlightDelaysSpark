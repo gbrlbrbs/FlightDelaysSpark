{
 "cells": [
  {
   "cell_type": "code",
   "execution_count": 1,
   "id": "1eab0f1d-e52c-46a8-81f3-65f163949601",
   "metadata": {},
   "outputs": [],
   "source": [
    "from get_data import get_data\n",
    "\n",
    "get_data()"
   ]
  },
  {
   "cell_type": "code",
   "execution_count": 2,
   "id": "864741eb-638f-46d0-89c9-ebef4b69f6f4",
   "metadata": {},
   "outputs": [],
   "source": [
    "from pyspark.sql import SparkSession\n",
    "from pathlib import Path\n",
    "\n",
    "DATA_PATH = Path(\"/opt/workspace/data\")"
   ]
  },
  {
   "cell_type": "code",
   "execution_count": 5,
   "id": "755819a0-ba32-44fd-9934-4ebbeaf5302d",
   "metadata": {},
   "outputs": [
    {
     "name": "stderr",
     "output_type": "stream",
     "text": [
      "WARNING: An illegal reflective access operation has occurred\n",
      "WARNING: Illegal reflective access by org.apache.spark.unsafe.Platform (file:/opt/spark/jars/spark-unsafe_2.12-3.2.2.jar) to constructor java.nio.DirectByteBuffer(long,int)\n",
      "WARNING: Please consider reporting this to the maintainers of org.apache.spark.unsafe.Platform\n",
      "WARNING: Use --illegal-access=warn to enable warnings of further illegal reflective access operations\n",
      "WARNING: All illegal access operations will be denied in a future release\n",
      "22/11/27 16:25:50 WARN NativeCodeLoader: Unable to load native-hadoop library for your platform... using builtin-java classes where applicable\n",
      "Using Spark's default log4j profile: org/apache/spark/log4j-defaults.properties\n",
      "Setting default log level to \"WARN\".\n",
      "To adjust logging level use sc.setLogLevel(newLevel). For SparkR, use setLogLevel(newLevel).\n"
     ]
    }
   ],
   "source": [
    "jar_postgres = Path.cwd() / \"postgresql-42.5.1.jar\"\n",
    "master_url = \"spark://spark-master:7077\"\n",
    "spark = SparkSession \\\n",
    "        .builder \\\n",
    "        .appName(\"FlightDelaysNotebook\") \\\n",
    "        .config(\"spark.jars\", str(jar_postgres)) \\\n",
    "        .master(master_url) \\\n",
    "        .getOrCreate()"
   ]
  },
  {
   "cell_type": "markdown",
   "id": "b9d77ace-3051-488c-bebf-d4c34103c5e8",
   "metadata": {},
   "source": [
    "Lendo os dados baixados:"
   ]
  },
  {
   "cell_type": "code",
   "execution_count": 9,
   "id": "2a465698-a2d5-4d99-a7a4-984c6743aabb",
   "metadata": {},
   "outputs": [
    {
     "name": "stderr",
     "output_type": "stream",
     "text": [
      "                                                                                \r"
     ]
    }
   ],
   "source": [
    "df = spark.read.csv(str(DATA_PATH), header=True)"
   ]
  },
  {
   "cell_type": "code",
   "execution_count": 10,
   "id": "81685662-f4dc-44db-a757-c0036bb7cff4",
   "metadata": {},
   "outputs": [
    {
     "data": {
      "text/plain": [
       "['FL_DATE',\n",
       " 'OP_CARRIER',\n",
       " 'OP_CARRIER_FL_NUM',\n",
       " 'ORIGIN',\n",
       " 'DEST',\n",
       " 'CRS_DEP_TIME',\n",
       " 'DEP_TIME',\n",
       " 'DEP_DELAY',\n",
       " 'TAXI_OUT',\n",
       " 'WHEELS_OFF',\n",
       " 'WHEELS_ON',\n",
       " 'TAXI_IN',\n",
       " 'CRS_ARR_TIME',\n",
       " 'ARR_TIME',\n",
       " 'ARR_DELAY',\n",
       " 'CANCELLED',\n",
       " 'CANCELLATION_CODE',\n",
       " 'DIVERTED',\n",
       " 'CRS_ELAPSED_TIME',\n",
       " 'ACTUAL_ELAPSED_TIME',\n",
       " 'AIR_TIME',\n",
       " 'DISTANCE',\n",
       " 'CARRIER_DELAY',\n",
       " 'WEATHER_DELAY',\n",
       " 'NAS_DELAY',\n",
       " 'SECURITY_DELAY',\n",
       " 'LATE_AIRCRAFT_DELAY',\n",
       " 'Unnamed: 27']"
      ]
     },
     "execution_count": 10,
     "metadata": {},
     "output_type": "execute_result"
    }
   ],
   "source": [
    "df.columns"
   ]
  },
  {
   "cell_type": "markdown",
   "id": "14848cdc-7555-4037-944e-c59b5b87afec",
   "metadata": {},
   "source": [
    "Escrevendo para um arquivo Parquet para comprimir e utiizar menos espaço no filesystem. Particionando por origem do voo para facilitar queries."
   ]
  },
  {
   "cell_type": "code",
   "execution_count": 14,
   "id": "36b90d4a-2dae-4adc-8b6b-eb13690f4e73",
   "metadata": {},
   "outputs": [
    {
     "name": "stderr",
     "output_type": "stream",
     "text": [
      "                                                                                \r"
     ]
    }
   ],
   "source": [
    "df \\\n",
    "    .drop(\"Unnamed: 27\") \\\n",
    "    .write \\\n",
    "    .partitionBy(\"ORIGIN\") \\\n",
    "    .parquet(str(DATA_PATH / \"flight_delays\") , mode=\"overwrite\")"
   ]
  },
  {
   "cell_type": "markdown",
   "id": "07a97209-24da-4be0-8142-bf0f012a0574",
   "metadata": {},
   "source": [
    "Deletando os csvs e relendo o DataFrame"
   ]
  },
  {
   "cell_type": "code",
   "execution_count": 15,
   "id": "8ff40463-b800-4771-bd20-182235ca7121",
   "metadata": {},
   "outputs": [],
   "source": [
    "for file in csv_files:\n",
    "    file.unlink()"
   ]
  },
  {
   "cell_type": "code",
   "execution_count": 6,
   "id": "799264d3-1357-456d-882e-beeb9925e4b6",
   "metadata": {},
   "outputs": [
    {
     "name": "stderr",
     "output_type": "stream",
     "text": [
      "                                                                                \r"
     ]
    }
   ],
   "source": [
    "df = spark.read.parquet(str(DATA_PATH / \"flight_delays\"))"
   ]
  },
  {
   "cell_type": "markdown",
   "id": "8eef5df0-9108-400d-a7c2-b627dc855e36",
   "metadata": {},
   "source": [
    "Escrevendo para a database Postgres (leva um tempo)"
   ]
  },
  {
   "cell_type": "code",
   "execution_count": 10,
   "id": "b5671357-7b1c-4950-bc35-bfdc5eec2205",
   "metadata": {},
   "outputs": [
    {
     "name": "stderr",
     "output_type": "stream",
     "text": [
      "                                                                                \r"
     ]
    }
   ],
   "source": [
    "properties = {\n",
    "    \"user\": \"postgres\",\n",
    "    \"password\": \"spark\",\n",
    "    \"driver\": \"org.postgresql.Driver\"\n",
    "}\n",
    "url = \"jdbc:postgresql://demo-database:5432/postgres\"\n",
    "df \\\n",
    "    .write \\\n",
    "    .jdbc(url=url, table=\"flight_delays\", mode=\"append\", properties=properties)"
   ]
  }
 ],
 "metadata": {
  "kernelspec": {
   "display_name": "Python 3 (ipykernel)",
   "language": "python",
   "name": "python3"
  },
  "language_info": {
   "codemirror_mode": {
    "name": "ipython",
    "version": 3
   },
   "file_extension": ".py",
   "mimetype": "text/x-python",
   "name": "python",
   "nbconvert_exporter": "python",
   "pygments_lexer": "ipython3",
   "version": "3.8.10"
  }
 },
 "nbformat": 4,
 "nbformat_minor": 5
}
